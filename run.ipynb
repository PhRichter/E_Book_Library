{
 "cells": [
  {
   "cell_type": "code",
   "execution_count": 1,
   "id": "36445861-2e7d-4113-80ba-17798de975bd",
   "metadata": {},
   "outputs": [],
   "source": [
    "#https://www.tutorialspoint.com/sqlite/sqlite_python.htm\n",
    "#https://www.geeksforgeeks.org/sql-using-python/\n",
    "#https://www.geeksforgeeks.org/sql-vs-nosql-which-one-is-better-to-use/?ref=lbp\n",
    "#https://www.tutorialspoint.com/sqlite/sqlite_using_joins.htm\n",
    "#https://www.sqlitetutorial.net/sqlite-autoincrement/\n",
    "\n",
    "from ebook_datenbank import *\n",
    "import os\n",
    "if os.path.exists(\"romane.db\"): os.remove(\"romane.db\")\n",
    "if os.path.exists(\"die_zeit.db\"): os.remove(\"die_zeit.db\")\n",
    "if os.path.exists(\"paper.db\"): os.remove(\"paper.db\")\n",
    "if os.path.exists(\"sach_und_lehrbuch.db\"): os.remove(\"sach_und_lehrbuch.db\")\n",
    "if os.path.exists(\"zeitschriften.db\"): os.remove(\"zeitschriften.db\")"
   ]
  },
  {
   "cell_type": "code",
   "execution_count": 2,
   "id": "80e38246-85b4-452e-a7b9-b415207b5f87",
   "metadata": {},
   "outputs": [],
   "source": [
    "die_zeit_db = DATABASE(\"die_zeit.db\")\n",
    "romane_db = DATABASE(\"romane.db\")\n",
    "paper_db = DATABASE(\"paper.db\")\n",
    "sach_und_lehrbuch_db = DATABASE(\"sach_und_lehrbuch.db\")\n",
    "zeitschriften_db = DATABASE(\"zeitschriften.db\")"
   ]
  },
  {
   "cell_type": "code",
   "execution_count": 3,
   "id": "627ef856-8152-48d9-aa2a-67c0bc44cd41",
   "metadata": {},
   "outputs": [],
   "source": [
    "die_zeit_db.create_new_db()\n",
    "romane_db.create_new_db()\n",
    "paper_db.create_new_db()\n",
    "sach_und_lehrbuch_db.create_new_db()\n",
    "zeitschriften_db.create_new_db()"
   ]
  },
  {
   "cell_type": "code",
   "execution_count": 4,
   "id": "0e35e8ef-7c5a-4730-a561-8d6360a4b7d3",
   "metadata": {},
   "outputs": [],
   "source": [
    "romane_db.insert_new_dataset(title=\"Leviathan erwacht\",\n",
    "                             path=\"C:\\\\Users\\\\prichter\\\\Nextcloud\\\\E-Book_Datenbak\\\\files\\\\romane\\\\Leviathan_erwacht.epub\",\n",
    "                             year=2011,\n",
    "                             datatype=\"EPUB\",\n",
    "                             authors=[\"James S. A. Corey\"])\n",
    "romane_db.insert_new_dataset(title=\"Der Goldene Kompass - Die Trilogie\",\n",
    "                             path=\"C:\\\\Users\\\\prichter\\\\Nextcloud\\\\E-Book_Datenbak\\\\files\\\\romane\\\\Der_Goldene_Kompass_Die_Trilogie.epub\",\n",
    "                             year=2007,\n",
    "                             datatype=\"EPUB\",\n",
    "                             authors=[\"Philip Pullman\"])\n",
    "romane_db.insert_new_dataset(title=\"Calibans Krieg\",\n",
    "                             path=\"C:\\\\Users\\\\prichter\\\\Nextcloud\\\\E-Book_Datenbak\\\\files\\\\romane\\\\Leviathan_erwacht.epub\",\n",
    "                             year=2013,\n",
    "                             datatype=\"EPUB\",\n",
    "                             authors=[\"James S. A. Corey\"])\n",
    "paper_db.insert_new_dataset(title=\"Application of the shipborne remote sensing supersite OCEANET for profiling of Arctic aerosols and clouds during Polarstern cruise PS106\",\n",
    "                            path=\"C:\\\\Users\\\\prichter\\\\Nextcloud\\\\E-Book_Datenbak\\\\files\\\\paper\\\\amt-13-4334-2020.pdf\",\n",
    "                            year=2020,\n",
    "                            datatype=\"PDF\",\n",
    "                            authors=[\"Hannes J. Griesche\", \"Patric Seifert\", \"Albert Ansmann\", \"Holger Baars\", \"Carola Barrientos Velasco\", \"Johannes Bühl\", \"Ronny Engelmann\", \"Martin Radenz\", \"Yin Zhenping\", \"Andreas Macke\"])\n",
    "paper_db.insert_new_dataset(title=\"Humidity trends imply increased sensitivity to clouds in a warming Arctic\",\n",
    "                            path=\"C:\\\\Users\\\\prichter\\\\Nextcloud\\\\E-Book_Datenbak\\\\files\\\\paper\\\\Humidity trends imply increased sensitivit - Christopher Cox, Von P. Walden, Penny M. R.pdf\",\n",
    "                            year=2016,\n",
    "                            datatype=\"PDF\",\n",
    "                            authors=[\"Christopher J. Cox\", \"Von P. Walden\", \"Penny M. Rowe\", \"Matthew D. Shupe\"])\n",
    "paper_db.insert_new_dataset(title=\"July 2012 Greenland melt extent enhanced bylow-level liquid clouds\",\n",
    "                            path=\"C:\\\\Users\\\\prichter\\\\Nextcloud\\\\E-Book_Datenbak\\\\files\\\\paper\\\\July 2012 Greenland melt extent enhanced b - R. Bennartz, M. D. Shupe, D. D. Turner, V.pdf\",\n",
    "                            year=2013,\n",
    "                            datatype=\"PDF\",\n",
    "                            authors=[\"R. Bennartz\", \"Matthew D. Shupe\", \"Dave D. Turner\", \"Von P. Walden\", \"K. Steffen\", \"Christopher J. Cox\", \"M. S. Kulie\", \"N. B. Miller\", \"C. Pettersen\"])\n",
    "die_zeit_db.insert_new_dataset(title=\"Die Zeit 10/2022\",\n",
    "                               path=\"C:\\\\Users\\\\prichter\\\\Nextcloud\\\\E-Book_Datenbak\\\\files\\\\zeit\\\\die_zeit_10_2022.epub\",\n",
    "                               year=2022,\n",
    "                               datatype=\"EPUB\",\n",
    "                               authors=[\"Die Zeit\"])\n",
    "die_zeit_db.insert_new_dataset(title=\"Die Zeit 11/2022\",\n",
    "                               path=\"C:\\\\Users\\\\prichter\\\\Nextcloud\\\\E-Book_Datenbak\\\\files\\\\zeit\\\\die_zeit_11_2022.epub\",\n",
    "                               year=2022,\n",
    "                               datatype=\"EPUB\",\n",
    "                               authors=[\"Die Zeit\"])\n",
    "paper_db.insert_new_dataset(title=\"Accuracy of cloud liquid water path from ground-based microwave radiometry 1. Dependency on cloud model statistic\",\n",
    "                            path=\"C:\\\\Users\\\\prichter\\\\Nextcloud\\\\E-Book_Datenbak\\\\files\\\\paper\\\\Accuracy of cloud liquid water path from g - Ulrich Lohnert, Susanne Crewell.pdf\",\n",
    "                            year=2003,\n",
    "                            datatype=\"PDF\",\n",
    "                            authors=[\"Ulrich Löhnert\", \"Susanne Crewell\"])\n",
    "sach_und_lehrbuch_db.insert_new_dataset(title=\"Accuracy of cloud liquid water path from ground-based microwave radiometry 1. Dependency on cloud model statistic\",\n",
    "                            path=\"C:\\\\Users\\\\prichter\\\\Nextcloud\\\\E-Book_Datenbak\\\\files\\\\sach_und_lehrbuch\\\\tkinter-pdf.pdf\",\n",
    "                            year=2021,\n",
    "                            datatype=\"PDF\",\n",
    "                            authors=[\"Mark Roseman\"])\n",
    "zeitschriften_db.insert_new_dataset(title=\"Gravitation - Jenseits von Einsteins Theorie\",\n",
    "                            path=\"C:\\\\Users\\\\prichter\\\\Nextcloud\\\\E-Book_Datenbak\\\\files\\\\zeitschriften\\\\suw_2022_4.pdf\",\n",
    "                            year=2021,\n",
    "                            datatype=\"PDF\",\n",
    "                            authors=[\"Sterne und Weltraum\"])"
   ]
  },
  {
   "cell_type": "code",
   "execution_count": 5,
   "id": "4277b3fe-4194-4b69-923c-d593f3225f9a",
   "metadata": {},
   "outputs": [
    {
     "name": "stdout",
     "output_type": "stream",
     "text": [
      "(1, 'Leviathan erwacht', 'C:\\\\Users\\\\prichter\\\\Nextcloud\\\\E-Book_Datenbak\\\\files\\\\romane\\\\Leviathan_erwacht.epub', 2011, 'EPUB', 1)\n",
      "(2, 'Der Goldene Kompass - Die Trilogie', 'C:\\\\Users\\\\prichter\\\\Nextcloud\\\\E-Book_Datenbak\\\\files\\\\romane\\\\Der_Goldene_Kompass_Die_Trilogie.epub', 2007, 'EPUB', 1)\n",
      "(3, 'Calibans Krieg', 'C:\\\\Users\\\\prichter\\\\Nextcloud\\\\E-Book_Datenbak\\\\files\\\\romane\\\\Leviathan_erwacht.epub', 2013, 'EPUB', 1)\n",
      "(1, 'James S. A. Corey')\n",
      "(2, 'Philip Pullman')\n",
      "(1, 1)\n",
      "(2, 2)\n",
      "(3, 1)\n"
     ]
    }
   ],
   "source": [
    "romane_db.select_star()"
   ]
  },
  {
   "cell_type": "code",
   "execution_count": 6,
   "id": "6618758f-752e-4968-89ee-a82b43438585",
   "metadata": {},
   "outputs": [
    {
     "data": {
      "text/plain": [
       "[(1, 'James S. A. Corey')]"
      ]
     },
     "execution_count": 6,
     "metadata": {},
     "output_type": "execute_result"
    }
   ],
   "source": [
    "romane_db.find_author(author=\"Corey\")"
   ]
  },
  {
   "cell_type": "code",
   "execution_count": 7,
   "id": "e0483770-8624-4a65-a173-856c0edf63e3",
   "metadata": {},
   "outputs": [
    {
     "name": "stdout",
     "output_type": "stream",
     "text": [
      "(1, 'Leviathan erwacht', 'C:\\\\Users\\\\prichter\\\\Nextcloud\\\\E-Book_Datenbak\\\\files\\\\romane\\\\Leviathan_erwacht.epub', 2011, 'EPUB', 1, 1, 1, 1, 'James S. A. Corey')\n",
      "(2, 'Der Goldene Kompass - Die Trilogie', 'C:\\\\Users\\\\prichter\\\\Nextcloud\\\\E-Book_Datenbak\\\\files\\\\romane\\\\Der_Goldene_Kompass_Die_Trilogie.epub', 2007, 'EPUB', 1, 2, 2, 2, 'Philip Pullman')\n",
      "(3, 'Calibans Krieg', 'C:\\\\Users\\\\prichter\\\\Nextcloud\\\\E-Book_Datenbak\\\\files\\\\romane\\\\Leviathan_erwacht.epub', 2013, 'EPUB', 1, 3, 1, 1, 'James S. A. Corey')\n"
     ]
    }
   ],
   "source": [
    "romane_db.show_all()"
   ]
  },
  {
   "cell_type": "code",
   "execution_count": 8,
   "id": "6db7c52a-08f7-47b9-97f5-3ae55670bc2c",
   "metadata": {},
   "outputs": [
    {
     "name": "stdout",
     "output_type": "stream",
     "text": [
      "(1, 'Accuracy of cloud liquid water path from ground-based microwave radiometry 1. Dependency on cloud model statistic', 'C:\\\\Users\\\\prichter\\\\Nextcloud\\\\E-Book_Datenbak\\\\files\\\\sach_und_lehrbuch\\\\tkinter-pdf.pdf', 2021, 'PDF', 1)\n",
      "(1, 'Mark Roseman')\n",
      "(1, 1)\n"
     ]
    }
   ],
   "source": [
    "sach_und_lehrbuch_db.select_star()"
   ]
  },
  {
   "cell_type": "code",
   "execution_count": 9,
   "id": "d4d5cb90-4b13-4ef2-a20d-489ff8b9b7fb",
   "metadata": {},
   "outputs": [],
   "source": [
    "connection = sqlite3.connect(\"paper.db\")\n",
    "crsr = connection.cursor()\n",
    "query = \"SELECT COUNT(*), author_name FROM book_author LEFT JOIN authors ON book_author.author_id = authors.id GROUP BY author_id;\"\n",
    "crsr.execute(query)\n",
    "table = crsr.fetchall()\n",
    "connection.commit()\n",
    "connection.close()"
   ]
  },
  {
   "cell_type": "code",
   "execution_count": 10,
   "id": "a5d3319f-84c7-4ba7-a4e6-2704ffb4583b",
   "metadata": {},
   "outputs": [
    {
     "data": {
      "text/plain": [
       "[(1, 'Hannes J. Griesche'),\n",
       " (1, 'Patric Seifert'),\n",
       " (1, 'Albert Ansmann'),\n",
       " (1, 'Holger Baars'),\n",
       " (1, 'Carola Barrientos Velasco'),\n",
       " (1, 'Johannes Bühl'),\n",
       " (1, 'Ronny Engelmann'),\n",
       " (1, 'Martin Radenz'),\n",
       " (1, 'Yin Zhenping'),\n",
       " (1, 'Andreas Macke'),\n",
       " (2, 'Christopher J. Cox'),\n",
       " (2, 'Von P. Walden'),\n",
       " (1, 'Penny M. Rowe'),\n",
       " (2, 'Matthew D. Shupe'),\n",
       " (1, 'R. Bennartz'),\n",
       " (1, 'Dave D. Turner'),\n",
       " (1, 'K. Steffen'),\n",
       " (1, 'M. S. Kulie'),\n",
       " (1, 'N. B. Miller'),\n",
       " (1, 'C. Pettersen'),\n",
       " (1, 'Ulrich Löhnert'),\n",
       " (1, 'Susanne Crewell')]"
      ]
     },
     "execution_count": 10,
     "metadata": {},
     "output_type": "execute_result"
    }
   ],
   "source": [
    "table"
   ]
  },
  {
   "cell_type": "code",
   "execution_count": 11,
   "id": "9ea2c504-3c6a-4b93-b037-94de7447f829",
   "metadata": {},
   "outputs": [],
   "source": [
    "sach_und_lehrbuch_db.update_title(1, \"Modern TKinter for Busy Python Developers\")"
   ]
  },
  {
   "cell_type": "code",
   "execution_count": 16,
   "id": "aeaa105f-d577-415d-a0a8-634b98ead439",
   "metadata": {},
   "outputs": [
    {
     "name": "stdout",
     "output_type": "stream",
     "text": [
      "(1, 'Modern TKinter for Busy Python Developers', 'C:\\\\Users\\\\prichter\\\\Nextcloud\\\\E-Book_Datenbak\\\\files\\\\sach_und_lehrbuch\\\\tkinter-pdf.pdf', 2021, 'PDF', 1)\n",
      "(1, 'Mark Roseman')\n",
      "(1, 1)\n"
     ]
    }
   ],
   "source": [
    "sach_und_lehrbuch_db.select_star()"
   ]
  },
  {
   "cell_type": "code",
   "execution_count": null,
   "id": "a4f03f58-0356-46be-b262-f7494028ca86",
   "metadata": {},
   "outputs": [],
   "source": []
  },
  {
   "cell_type": "code",
   "execution_count": null,
   "id": "c7fb89f7-60f2-4dc2-b2fd-0f4fd10c410a",
   "metadata": {},
   "outputs": [],
   "source": []
  }
 ],
 "metadata": {
  "kernelspec": {
   "display_name": "Python 3 (ipykernel)",
   "language": "python",
   "name": "python3"
  },
  "language_info": {
   "codemirror_mode": {
    "name": "ipython",
    "version": 3
   },
   "file_extension": ".py",
   "mimetype": "text/x-python",
   "name": "python",
   "nbconvert_exporter": "python",
   "pygments_lexer": "ipython3",
   "version": "3.9.7"
  }
 },
 "nbformat": 4,
 "nbformat_minor": 5
}
