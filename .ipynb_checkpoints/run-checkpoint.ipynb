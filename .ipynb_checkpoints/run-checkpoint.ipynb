{
 "cells": [
  {
   "cell_type": "code",
   "execution_count": 1,
   "id": "36445861-2e7d-4113-80ba-17798de975bd",
   "metadata": {},
   "outputs": [
    {
     "name": "stdout",
     "output_type": "stream",
     "text": [
      "C:\\Users\\prichter\\Nextcloud\\E_Book_Library\n"
     ]
    }
   ],
   "source": [
    "#https://www.tutorialspoint.com/sqlite/sqlite_python.htm\n",
    "#https://www.geeksforgeeks.org/sql-using-python/\n",
    "#https://www.geeksforgeeks.org/sql-vs-nosql-which-one-is-better-to-use/?ref=lbp\n",
    "#https://www.tutorialspoint.com/sqlite/sqlite_using_joins.htm\n",
    "#https://www.sqlitetutorial.net/sqlite-autoincrement/\n",
    "\n",
    "from ebook_datenbank import *\n",
    "from viewer import VIEWER\n",
    "import os\n",
    "print(os.getcwd())\n",
    "if os.path.exists(\"romane.db\"): os.remove(\"romane.db\")\n",
    "if os.path.exists(\"die_zeit.db\"): os.remove(\"die_zeit.db\")\n",
    "if os.path.exists(\"paper.db\"): os.remove(\"paper.db\")\n",
    "if os.path.exists(\"sach_und_lehrbuch.db\"): os.remove(\"sach_und_lehrbuch.db\")\n",
    "if os.path.exists(\"zeitschriften.db\"): os.remove(\"zeitschriften.db\")"
   ]
  },
  {
   "cell_type": "code",
   "execution_count": 2,
   "id": "80e38246-85b4-452e-a7b9-b415207b5f87",
   "metadata": {},
   "outputs": [],
   "source": [
    "eLibrary = VIEWER(pdf_viewer=\"C:\\\\Program Files (x86)\\\\Microsoft\\\\Edge\\\\Application\\\\msedge.exe\", \\\n",
    "                  epub_viewer=\"C:\\\\Program Files (x86)\\\\Adobe\\\\Adobe Digital Editions 4.5\\\\DigitalEditions.exe\")\n",
    "\n",
    "die_zeit_db = DATABASE(\"die_zeit.db\")\n",
    "romane_db = DATABASE(\"romane.db\")\n",
    "paper_db = DATABASE(\"paper.db\")\n",
    "sach_und_lehrbuch_db = DATABASE(\"sach_und_lehrbuch.db\")\n",
    "zeitschriften_db = DATABASE(\"zeitschriften.db\")"
   ]
  },
  {
   "cell_type": "code",
   "execution_count": 3,
   "id": "627ef856-8152-48d9-aa2a-67c0bc44cd41",
   "metadata": {},
   "outputs": [],
   "source": [
    "die_zeit_db.create_new_db()\n",
    "romane_db.create_new_db()\n",
    "paper_db.create_new_db()\n",
    "sach_und_lehrbuch_db.create_new_db()\n",
    "zeitschriften_db.create_new_db()"
   ]
  },
  {
   "cell_type": "code",
   "execution_count": 4,
   "id": "0e35e8ef-7c5a-4730-a561-8d6360a4b7d3",
   "metadata": {},
   "outputs": [],
   "source": [
    "romane_db.insert_new_dataset(title=\"Leviathan erwacht\",\n",
    "                             path=\"C:\\\\Users\\\\prichter\\\\Nextcloud\\\\E_Book_Library\\\\files\\\\romane\\\\Leviathan_erwacht.epub\",\n",
    "                             year=2011,\n",
    "                             datatype=\"EPUB\",\n",
    "                             authors=[\"James S. A. Corey\"])\n",
    "romane_db.insert_new_dataset(title=\"Der Goldene Kompass - Die Trilogie\",\n",
    "                             path=\"C:\\\\Users\\\\prichter\\\\Nextcloud\\\\E_Book_Library\\\\files\\\\romane\\\\Der_Goldene_Kompass_Die_Trilogie.epub\",\n",
    "                             year=2007,\n",
    "                             datatype=\"EPUB\",\n",
    "                             authors=[\"Philip Pullman\"])\n",
    "romane_db.insert_new_dataset(title=\"Calibans Krieg\",\n",
    "                             path=\"C:\\\\Users\\\\prichter\\\\Nextcloud\\\\E_Book_Library\\\\files\\\\romane\\\\Calibans_Krieg.epub\",\n",
    "                             year=2013,\n",
    "                             datatype=\"EPUB\",\n",
    "                             authors=[\"James S. A. Corey\"])\n",
    "paper_db.insert_new_dataset(title=\"Application of the shipborne remote sensing supersite OCEANET for profiling of Arctic aerosols and clouds during Polarstern cruise PS106\",\n",
    "                            path=\"C:\\\\Users\\\\prichter\\\\Nextcloud\\\\E-Book_Datenbak\\\\files\\\\paper\\\\amt-13-4334-2020.pdf\",\n",
    "                            year=2020,\n",
    "                            datatype=\"PDF\",\n",
    "                            authors=[\"Hannes J. Griesche\", \"Patric Seifert\", \"Albert Ansmann\", \"Holger Baars\", \"Carola Barrientos Velasco\", \"Johannes Bühl\", \"Ronny Engelmann\", \"Martin Radenz\", \"Yin Zhenping\", \"Andreas Macke\"])\n",
    "paper_db.insert_new_dataset(title=\"Humidity trends imply increased sensitivity to clouds in a warming Arctic\",\n",
    "                            path=\"C:\\\\Users\\\\prichter\\\\Nextcloud\\\\E-Book_Datenbak\\\\files\\\\paper\\\\Humidity trends imply increased sensitivit - Christopher Cox, Von P. Walden, Penny M. R.pdf\",\n",
    "                            year=2016,\n",
    "                            datatype=\"PDF\",\n",
    "                            authors=[\"Christopher J. Cox\", \"Von P. Walden\", \"Penny M. Rowe\", \"Matthew D. Shupe\"])\n",
    "paper_db.insert_new_dataset(title=\"July 2012 Greenland melt extent enhanced bylow-level liquid clouds\",\n",
    "                            path=\"C:\\\\Users\\\\prichter\\\\Nextcloud\\\\E-Book_Datenbak\\\\files\\\\paper\\\\July 2012 Greenland melt extent enhanced b - R. Bennartz, M. D. Shupe, D. D. Turner, V.pdf\",\n",
    "                            year=2013,\n",
    "                            datatype=\"PDF\",\n",
    "                            authors=[\"R. Bennartz\", \"Matthew D. Shupe\", \"Dave D. Turner\", \"Von P. Walden\", \"K. Steffen\", \"Christopher J. Cox\", \"M. S. Kulie\", \"N. B. Miller\", \"C. Pettersen\"])\n",
    "die_zeit_db.insert_new_dataset(title=\"Die Zeit 10/2022\",\n",
    "                               path=\"C:\\\\Users\\\\prichter\\\\Nextcloud\\\\E-Book_Datenbak\\\\files\\\\zeit\\\\die_zeit_10_2022.epub\",\n",
    "                               year=2022,\n",
    "                               datatype=\"EPUB\",\n",
    "                               authors=[\"Die Zeit\"])\n",
    "die_zeit_db.insert_new_dataset(title=\"Die Zeit 11/2022\",\n",
    "                               path=\"C:\\\\Users\\\\prichter\\\\Nextcloud\\\\E-Book_Datenbak\\\\files\\\\zeit\\\\die_zeit_11_2022.epub\",\n",
    "                               year=2022,\n",
    "                               datatype=\"EPUB\",\n",
    "                               authors=[\"Die Zeit\"])\n",
    "paper_db.insert_new_dataset(title=\"Accuracy of cloud liquid water path from ground-based microwave radiometry 1. Dependency on cloud model statistic\",\n",
    "                            path=\"C:\\\\Users\\\\prichter\\\\Nextcloud\\\\E-Book_Datenbak\\\\files\\\\paper\\\\Accuracy of cloud liquid water path from g - Ulrich Lohnert, Susanne Crewell.pdf\",\n",
    "                            year=2003,\n",
    "                            datatype=\"PDF\",\n",
    "                            authors=[\"Ulrich Löhnert\", \"Susanne Crewell\"])\n",
    "sach_und_lehrbuch_db.insert_new_dataset(title=\"Accuracy of cloud liquid water path from ground-based microwave radiometry 1. Dependency on cloud model statistic\",\n",
    "                            path=\"C:\\\\Users\\\\prichter\\\\Nextcloud\\\\E-Book_Datenbak\\\\files\\\\sach_und_lehrbuch\\\\tkinter-pdf.pdf\",\n",
    "                            year=2021,\n",
    "                            datatype=\"PDF\",\n",
    "                            authors=[\"Mark Roseman\"])\n",
    "zeitschriften_db.insert_new_dataset(title=\"Gravitation - Jenseits von Einsteins Theorie\",\n",
    "                            path=\"C:\\\\Users\\\\prichter\\\\Nextcloud\\\\E_Book_Library\\\\files\\\\zeitschriften\\\\suw_2022_4.pdf\",\n",
    "                            year=2021,\n",
    "                            datatype=\"PDF\",\n",
    "                            authors=[\"Sterne und Weltraum\"])\n",
    "paper_db.insert_new_dataset(title=\"Accuracy of cloud liquid water path from ground-based microwave radiometry 1. Dependency on cloud model statistic\",\n",
    "                            path=\"files\\\\paper\\\\acp-2022-28.pdf\",\n",
    "                            year=2022,\n",
    "                            datatype=\"PDF\",\n",
    "                            authors=[\"Luca Lelli\", \"Marco Vountas\", \"Narges Khosravi\", \"John P. Burrows\"])"
   ]
  },
  {
   "cell_type": "code",
   "execution_count": 5,
   "id": "4277b3fe-4194-4b69-923c-d593f3225f9a",
   "metadata": {},
   "outputs": [
    {
     "name": "stdout",
     "output_type": "stream",
     "text": [
      "(1, 'Leviathan erwacht', 'C:\\\\Users\\\\prichter\\\\Nextcloud\\\\E_Book_Library\\\\files\\\\romane\\\\Leviathan_erwacht.epub', 2011, 'EPUB', 1)\n",
      "(2, 'Der Goldene Kompass - Die Trilogie', 'C:\\\\Users\\\\prichter\\\\Nextcloud\\\\E_Book_Library\\\\files\\\\romane\\\\Der_Goldene_Kompass_Die_Trilogie.epub', 2007, 'EPUB', 1)\n",
      "(3, 'Calibans Krieg', 'C:\\\\Users\\\\prichter\\\\Nextcloud\\\\E_Book_Library\\\\files\\\\romane\\\\Leviathan_erwacht.epub', 2013, 'EPUB', 1)\n",
      "(1, 'James S. A. Corey')\n",
      "(2, 'Philip Pullman')\n",
      "(1, 1)\n",
      "(2, 2)\n",
      "(3, 1)\n"
     ]
    }
   ],
   "source": [
    "romane_db.select_star()"
   ]
  },
  {
   "cell_type": "code",
   "execution_count": 6,
   "id": "6618758f-752e-4968-89ee-a82b43438585",
   "metadata": {},
   "outputs": [
    {
     "data": {
      "text/plain": [
       "[(1, 'James S. A. Corey')]"
      ]
     },
     "execution_count": 6,
     "metadata": {},
     "output_type": "execute_result"
    }
   ],
   "source": [
    "romane_db.find_author(author=\"Corey\")"
   ]
  },
  {
   "cell_type": "code",
   "execution_count": 7,
   "id": "e0483770-8624-4a65-a173-856c0edf63e3",
   "metadata": {},
   "outputs": [
    {
     "name": "stdout",
     "output_type": "stream",
     "text": [
      "(1, 'Leviathan erwacht', 'C:\\\\Users\\\\prichter\\\\Nextcloud\\\\E_Book_Library\\\\files\\\\romane\\\\Leviathan_erwacht.epub', 2011, 'EPUB', 1, 1, 1, 1, 'James S. A. Corey')\n",
      "(2, 'Der Goldene Kompass - Die Trilogie', 'C:\\\\Users\\\\prichter\\\\Nextcloud\\\\E_Book_Library\\\\files\\\\romane\\\\Der_Goldene_Kompass_Die_Trilogie.epub', 2007, 'EPUB', 1, 2, 2, 2, 'Philip Pullman')\n",
      "(3, 'Calibans Krieg', 'C:\\\\Users\\\\prichter\\\\Nextcloud\\\\E_Book_Library\\\\files\\\\romane\\\\Leviathan_erwacht.epub', 2013, 'EPUB', 1, 3, 1, 1, 'James S. A. Corey')\n"
     ]
    }
   ],
   "source": [
    "romane_db.show_all()"
   ]
  },
  {
   "cell_type": "code",
   "execution_count": 8,
   "id": "6db7c52a-08f7-47b9-97f5-3ae55670bc2c",
   "metadata": {},
   "outputs": [
    {
     "name": "stdout",
     "output_type": "stream",
     "text": [
      "(1, 'Accuracy of cloud liquid water path from ground-based microwave radiometry 1. Dependency on cloud model statistic', 'C:\\\\Users\\\\prichter\\\\Nextcloud\\\\E-Book_Datenbak\\\\files\\\\sach_und_lehrbuch\\\\tkinter-pdf.pdf', 2021, 'PDF', 1)\n",
      "(1, 'Mark Roseman')\n",
      "(1, 1)\n"
     ]
    }
   ],
   "source": [
    "sach_und_lehrbuch_db.select_star()"
   ]
  },
  {
   "cell_type": "code",
   "execution_count": 9,
   "id": "9ea2c504-3c6a-4b93-b037-94de7447f829",
   "metadata": {},
   "outputs": [],
   "source": [
    "sach_und_lehrbuch_db.update_title(1, \"Modern TKinter for Busy Python Developers\")"
   ]
  },
  {
   "cell_type": "code",
   "execution_count": 10,
   "id": "aeaa105f-d577-415d-a0a8-634b98ead439",
   "metadata": {},
   "outputs": [
    {
     "name": "stdout",
     "output_type": "stream",
     "text": [
      "(1, 'Application of the shipborne remote sensing supersite OCEANET for profiling of Arctic aerosols and clouds during Polarstern cruise PS106', 'C:\\\\Users\\\\prichter\\\\Nextcloud\\\\E-Book_Datenbak\\\\files\\\\paper\\\\amt-13-4334-2020.pdf', 2020, 'PDF', 1)\n",
      "(2, 'Humidity trends imply increased sensitivity to clouds in a warming Arctic', 'C:\\\\Users\\\\prichter\\\\Nextcloud\\\\E-Book_Datenbak\\\\files\\\\paper\\\\Humidity trends imply increased sensitivit - Christopher Cox, Von P. Walden, Penny M. R.pdf', 2016, 'PDF', 1)\n",
      "(3, 'July 2012 Greenland melt extent enhanced bylow-level liquid clouds', 'C:\\\\Users\\\\prichter\\\\Nextcloud\\\\E-Book_Datenbak\\\\files\\\\paper\\\\July 2012 Greenland melt extent enhanced b - R. Bennartz, M. D. Shupe, D. D. Turner, V.pdf', 2013, 'PDF', 1)\n",
      "(4, 'Accuracy of cloud liquid water path from ground-based microwave radiometry 1. Dependency on cloud model statistic', 'C:\\\\Users\\\\prichter\\\\Nextcloud\\\\E-Book_Datenbak\\\\files\\\\paper\\\\Accuracy of cloud liquid water path from g - Ulrich Lohnert, Susanne Crewell.pdf', 2003, 'PDF', 1)\n",
      "(5, 'Accuracy of cloud liquid water path from ground-based microwave radiometry 1. Dependency on cloud model statistic', 'files\\\\paper\\\\acp-2022-28.pdf', 2022, 'PDF', 1)\n",
      "(1, 'Hannes J. Griesche')\n",
      "(2, 'Patric Seifert')\n",
      "(3, 'Albert Ansmann')\n",
      "(4, 'Holger Baars')\n",
      "(5, 'Carola Barrientos Velasco')\n",
      "(6, 'Johannes Bühl')\n",
      "(7, 'Ronny Engelmann')\n",
      "(8, 'Martin Radenz')\n",
      "(9, 'Yin Zhenping')\n",
      "(10, 'Andreas Macke')\n",
      "(11, 'Christopher J. Cox')\n",
      "(12, 'Von P. Walden')\n",
      "(13, 'Penny M. Rowe')\n",
      "(14, 'Matthew D. Shupe')\n",
      "(15, 'R. Bennartz')\n",
      "(16, 'Dave D. Turner')\n",
      "(17, 'K. Steffen')\n",
      "(18, 'M. S. Kulie')\n",
      "(19, 'N. B. Miller')\n",
      "(20, 'C. Pettersen')\n",
      "(21, 'Ulrich Löhnert')\n",
      "(22, 'Susanne Crewell')\n",
      "(23, 'Luca Lelli')\n",
      "(24, 'Marco Vountas')\n",
      "(25, 'Narges Khosravi')\n",
      "(26, 'John P. Burrows')\n",
      "(1, 1)\n",
      "(1, 2)\n",
      "(1, 3)\n",
      "(1, 4)\n",
      "(1, 5)\n",
      "(1, 6)\n",
      "(1, 7)\n",
      "(1, 8)\n",
      "(1, 9)\n",
      "(1, 10)\n",
      "(2, 11)\n",
      "(2, 12)\n",
      "(2, 13)\n",
      "(2, 14)\n",
      "(3, 15)\n",
      "(3, 14)\n",
      "(3, 16)\n",
      "(3, 12)\n",
      "(3, 17)\n",
      "(3, 11)\n",
      "(3, 18)\n",
      "(3, 19)\n",
      "(3, 20)\n",
      "(4, 21)\n",
      "(4, 22)\n",
      "(4, 23)\n",
      "(4, 24)\n",
      "(4, 25)\n",
      "(4, 26)\n"
     ]
    }
   ],
   "source": [
    "paper_db.select_star()"
   ]
  },
  {
   "cell_type": "code",
   "execution_count": 11,
   "id": "a4f03f58-0356-46be-b262-f7494028ca86",
   "metadata": {},
   "outputs": [
    {
     "name": "stdout",
     "output_type": "stream",
     "text": [
      "(1, 'Gravitation - Jenseits von Einsteins Theorie', 'C:\\\\Users\\\\prichter\\\\Nextcloud\\\\E_Book_Library\\\\files\\\\zeitschriften\\\\suw_2022_4.pdf', 2021, 'PDF', 1)\n",
      "(1, 'Sterne und Weltraum')\n",
      "(1, 1)\n"
     ]
    }
   ],
   "source": [
    "zeitschriften_db.select_star()"
   ]
  },
  {
   "cell_type": "code",
   "execution_count": 12,
   "id": "c7fb89f7-60f2-4dc2-b2fd-0f4fd10c410a",
   "metadata": {},
   "outputs": [
    {
     "name": "stdout",
     "output_type": "stream",
     "text": [
      "(1, 'Gravitation - Jenseits von Einsteins Theorie', 'C:\\\\Users\\\\prichter\\\\Nextcloud\\\\E_Book_Library\\\\files\\\\zeitschriften\\\\suw_2022_4.pdf', 2022, 'PDF', 1)\n",
      "(1, 'Sterne und Weltraum')\n",
      "(1, 1)\n"
     ]
    }
   ],
   "source": [
    "zeitschriften_db.update_year(1, 2022)\n",
    "zeitschriften_db.select_star()"
   ]
  },
  {
   "cell_type": "code",
   "execution_count": 13,
   "id": "fb6fe48e-04fb-42ea-963c-c58bf560d04f",
   "metadata": {},
   "outputs": [],
   "source": [
    "#eLibrary.open_pdf(zeitschriften_db.select_path(1)[0][0])"
   ]
  },
  {
   "cell_type": "code",
   "execution_count": 15,
   "id": "8918924c-2918-41eb-a671-41d33e6ba4f2",
   "metadata": {},
   "outputs": [],
   "source": [
    "eLibrary.open_epub(romane_db.select_path(3)[0][0])"
   ]
  },
  {
   "cell_type": "code",
   "execution_count": null,
   "id": "1f97e7a0-b337-4705-9ad9-4ed02bee291b",
   "metadata": {},
   "outputs": [],
   "source": []
  }
 ],
 "metadata": {
  "kernelspec": {
   "display_name": "Python 3 (ipykernel)",
   "language": "python",
   "name": "python3"
  },
  "language_info": {
   "codemirror_mode": {
    "name": "ipython",
    "version": 3
   },
   "file_extension": ".py",
   "mimetype": "text/x-python",
   "name": "python",
   "nbconvert_exporter": "python",
   "pygments_lexer": "ipython3",
   "version": "3.9.7"
  }
 },
 "nbformat": 4,
 "nbformat_minor": 5
}
